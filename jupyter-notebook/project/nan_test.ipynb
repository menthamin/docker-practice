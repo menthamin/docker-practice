{
 "cells": [
  {
   "cell_type": "code",
   "execution_count": 47,
   "id": "88fb3e06",
   "metadata": {},
   "outputs": [],
   "source": [
    "import pandas as pd\n",
    "import numpy as np"
   ]
  },
  {
   "cell_type": "code",
   "execution_count": 48,
   "id": "d204a9ea",
   "metadata": {},
   "outputs": [],
   "source": [
    "df = pd.read_csv(\"sample.csv\", encoding=\"utf8\")"
   ]
  },
  {
   "cell_type": "code",
   "execution_count": 49,
   "id": "0ec715bd",
   "metadata": {},
   "outputs": [
    {
     "name": "stdout",
     "output_type": "stream",
     "text": [
      "<class 'pandas.core.frame.DataFrame'>\n",
      "RangeIndex: 1332 entries, 0 to 1331\n",
      "Data columns (total 10 columns):\n",
      " #   Column         Non-Null Count  Dtype  \n",
      "---  ------         --------------  -----  \n",
      " 0   url            1332 non-null   object \n",
      " 1   ctgr_lclas_id  1332 non-null   object \n",
      " 2   ctgr_mclas_id  1321 non-null   float64\n",
      " 3   ctgr_sclas_id  1140 non-null   float64\n",
      " 4   ctgr_lclas_nm  1332 non-null   object \n",
      " 5   ctgr_mclas_nm  1321 non-null   object \n",
      " 6   ctgr_sclas_nm  1140 non-null   object \n",
      " 7   reg_dt         1332 non-null   object \n",
      " 8   last_check_dt  1332 non-null   object \n",
      " 9   use_yn         1332 non-null   object \n",
      "dtypes: float64(2), object(8)\n",
      "memory usage: 104.2+ KB\n"
     ]
    }
   ],
   "source": [
    "df.info()"
   ]
  },
  {
   "cell_type": "code",
   "execution_count": 56,
   "id": "3c51f3f7",
   "metadata": {},
   "outputs": [
    {
     "ename": "SyntaxError",
     "evalue": "closing parenthesis ')' does not match opening parenthesis '{' (2606389346.py, line 1)",
     "output_type": "error",
     "traceback": [
      "\u001b[0;36m  Input \u001b[0;32mIn [56]\u001b[0;36m\u001b[0m\n\u001b[0;31m    df.round({'ctgr_mclas_id':)})\u001b[0m\n\u001b[0m                              ^\u001b[0m\n\u001b[0;31mSyntaxError\u001b[0m\u001b[0;31m:\u001b[0m closing parenthesis ')' does not match opening parenthesis '{'\n"
     ]
    }
   ],
   "source": [
    "df.round({'ctgr_mclas_id':)})"
   ]
  },
  {
   "cell_type": "code",
   "execution_count": 52,
   "id": "3d34fb4e",
   "metadata": {},
   "outputs": [
    {
     "data": {
      "text/plain": [
       "0             None\n",
       "1             None\n",
       "2       50000167.0\n",
       "3       50000167.0\n",
       "4       50000167.0\n",
       "           ...    \n",
       "1327    50007286.0\n",
       "1328    50007286.0\n",
       "1329    50007286.0\n",
       "1330    50007286.0\n",
       "1331    50007286.0\n",
       "Name: ctgr_mclas_id, Length: 1332, dtype: object"
      ]
     },
     "execution_count": 52,
     "metadata": {},
     "output_type": "execute_result"
    }
   ],
   "source": [
    "df.ctgr_mclas_id.astype(\"int\", errors=\"ignore\")"
   ]
  },
  {
   "cell_type": "code",
   "execution_count": null,
   "id": "cd1561c9",
   "metadata": {},
   "outputs": [],
   "source": []
  }
 ],
 "metadata": {
  "kernelspec": {
   "display_name": "Python 3 (ipykernel)",
   "language": "python",
   "name": "python3"
  },
  "language_info": {
   "codemirror_mode": {
    "name": "ipython",
    "version": 3
   },
   "file_extension": ".py",
   "mimetype": "text/x-python",
   "name": "python",
   "nbconvert_exporter": "python",
   "pygments_lexer": "ipython3",
   "version": "3.8.12"
  }
 },
 "nbformat": 4,
 "nbformat_minor": 5
}
